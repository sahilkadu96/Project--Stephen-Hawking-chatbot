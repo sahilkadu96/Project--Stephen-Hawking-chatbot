{
  "nbformat": 4,
  "nbformat_minor": 0,
  "metadata": {
    "colab": {
      "provenance": []
    },
    "kernelspec": {
      "name": "python3",
      "display_name": "Python 3"
    },
    "language_info": {
      "name": "python"
    }
  },
  "cells": [
    {
      "cell_type": "code",
      "execution_count": null,
      "metadata": {
        "colab": {
          "base_uri": "https://localhost:8080/"
        },
        "id": "B_XbNSVESsL1",
        "outputId": "a4cb3deb-8cf3-4667-b34b-96079def37c4"
      },
      "outputs": [
        {
          "output_type": "stream",
          "name": "stdout",
          "text": [
            "Requirement already satisfied: langchain in /usr/local/lib/python3.10/dist-packages (0.0.317)\n",
            "Requirement already satisfied: PyYAML>=5.3 in /usr/local/lib/python3.10/dist-packages (from langchain) (6.0.1)\n",
            "Requirement already satisfied: SQLAlchemy<3,>=1.4 in /usr/local/lib/python3.10/dist-packages (from langchain) (2.0.22)\n",
            "Requirement already satisfied: aiohttp<4.0.0,>=3.8.3 in /usr/local/lib/python3.10/dist-packages (from langchain) (3.8.6)\n",
            "Requirement already satisfied: anyio<4.0 in /usr/local/lib/python3.10/dist-packages (from langchain) (3.7.1)\n",
            "Requirement already satisfied: async-timeout<5.0.0,>=4.0.0 in /usr/local/lib/python3.10/dist-packages (from langchain) (4.0.3)\n",
            "Requirement already satisfied: dataclasses-json<0.7,>=0.5.7 in /usr/local/lib/python3.10/dist-packages (from langchain) (0.6.1)\n",
            "Requirement already satisfied: jsonpatch<2.0,>=1.33 in /usr/local/lib/python3.10/dist-packages (from langchain) (1.33)\n",
            "Requirement already satisfied: langsmith<0.1.0,>=0.0.43 in /usr/local/lib/python3.10/dist-packages (from langchain) (0.0.46)\n",
            "Requirement already satisfied: numpy<2,>=1 in /usr/local/lib/python3.10/dist-packages (from langchain) (1.23.5)\n",
            "Requirement already satisfied: pydantic<3,>=1 in /usr/local/lib/python3.10/dist-packages (from langchain) (1.10.13)\n",
            "Requirement already satisfied: requests<3,>=2 in /usr/local/lib/python3.10/dist-packages (from langchain) (2.31.0)\n",
            "Requirement already satisfied: tenacity<9.0.0,>=8.1.0 in /usr/local/lib/python3.10/dist-packages (from langchain) (8.2.3)\n",
            "Requirement already satisfied: attrs>=17.3.0 in /usr/local/lib/python3.10/dist-packages (from aiohttp<4.0.0,>=3.8.3->langchain) (23.1.0)\n",
            "Requirement already satisfied: charset-normalizer<4.0,>=2.0 in /usr/local/lib/python3.10/dist-packages (from aiohttp<4.0.0,>=3.8.3->langchain) (3.3.0)\n",
            "Requirement already satisfied: multidict<7.0,>=4.5 in /usr/local/lib/python3.10/dist-packages (from aiohttp<4.0.0,>=3.8.3->langchain) (6.0.4)\n",
            "Requirement already satisfied: yarl<2.0,>=1.0 in /usr/local/lib/python3.10/dist-packages (from aiohttp<4.0.0,>=3.8.3->langchain) (1.9.2)\n",
            "Requirement already satisfied: frozenlist>=1.1.1 in /usr/local/lib/python3.10/dist-packages (from aiohttp<4.0.0,>=3.8.3->langchain) (1.4.0)\n",
            "Requirement already satisfied: aiosignal>=1.1.2 in /usr/local/lib/python3.10/dist-packages (from aiohttp<4.0.0,>=3.8.3->langchain) (1.3.1)\n",
            "Requirement already satisfied: idna>=2.8 in /usr/local/lib/python3.10/dist-packages (from anyio<4.0->langchain) (3.4)\n",
            "Requirement already satisfied: sniffio>=1.1 in /usr/local/lib/python3.10/dist-packages (from anyio<4.0->langchain) (1.3.0)\n",
            "Requirement already satisfied: exceptiongroup in /usr/local/lib/python3.10/dist-packages (from anyio<4.0->langchain) (1.1.3)\n",
            "Requirement already satisfied: marshmallow<4.0.0,>=3.18.0 in /usr/local/lib/python3.10/dist-packages (from dataclasses-json<0.7,>=0.5.7->langchain) (3.20.1)\n",
            "Requirement already satisfied: typing-inspect<1,>=0.4.0 in /usr/local/lib/python3.10/dist-packages (from dataclasses-json<0.7,>=0.5.7->langchain) (0.9.0)\n",
            "Requirement already satisfied: jsonpointer>=1.9 in /usr/local/lib/python3.10/dist-packages (from jsonpatch<2.0,>=1.33->langchain) (2.4)\n",
            "Requirement already satisfied: typing-extensions>=4.2.0 in /usr/local/lib/python3.10/dist-packages (from pydantic<3,>=1->langchain) (4.8.0)\n",
            "Requirement already satisfied: urllib3<3,>=1.21.1 in /usr/local/lib/python3.10/dist-packages (from requests<3,>=2->langchain) (2.0.6)\n",
            "Requirement already satisfied: certifi>=2017.4.17 in /usr/local/lib/python3.10/dist-packages (from requests<3,>=2->langchain) (2023.7.22)\n",
            "Requirement already satisfied: greenlet!=0.4.17 in /usr/local/lib/python3.10/dist-packages (from SQLAlchemy<3,>=1.4->langchain) (3.0.0)\n",
            "Requirement already satisfied: packaging>=17.0 in /usr/local/lib/python3.10/dist-packages (from marshmallow<4.0.0,>=3.18.0->dataclasses-json<0.7,>=0.5.7->langchain) (23.2)\n",
            "Requirement already satisfied: mypy-extensions>=0.3.0 in /usr/local/lib/python3.10/dist-packages (from typing-inspect<1,>=0.4.0->dataclasses-json<0.7,>=0.5.7->langchain) (1.0.0)\n",
            "Requirement already satisfied: openai in /usr/local/lib/python3.10/dist-packages (0.28.1)\n",
            "Requirement already satisfied: requests>=2.20 in /usr/local/lib/python3.10/dist-packages (from openai) (2.31.0)\n",
            "Requirement already satisfied: tqdm in /usr/local/lib/python3.10/dist-packages (from openai) (4.66.1)\n",
            "Requirement already satisfied: aiohttp in /usr/local/lib/python3.10/dist-packages (from openai) (3.8.6)\n",
            "Requirement already satisfied: charset-normalizer<4,>=2 in /usr/local/lib/python3.10/dist-packages (from requests>=2.20->openai) (3.3.0)\n",
            "Requirement already satisfied: idna<4,>=2.5 in /usr/local/lib/python3.10/dist-packages (from requests>=2.20->openai) (3.4)\n",
            "Requirement already satisfied: urllib3<3,>=1.21.1 in /usr/local/lib/python3.10/dist-packages (from requests>=2.20->openai) (2.0.6)\n",
            "Requirement already satisfied: certifi>=2017.4.17 in /usr/local/lib/python3.10/dist-packages (from requests>=2.20->openai) (2023.7.22)\n",
            "Requirement already satisfied: attrs>=17.3.0 in /usr/local/lib/python3.10/dist-packages (from aiohttp->openai) (23.1.0)\n",
            "Requirement already satisfied: multidict<7.0,>=4.5 in /usr/local/lib/python3.10/dist-packages (from aiohttp->openai) (6.0.4)\n",
            "Requirement already satisfied: async-timeout<5.0,>=4.0.0a3 in /usr/local/lib/python3.10/dist-packages (from aiohttp->openai) (4.0.3)\n",
            "Requirement already satisfied: yarl<2.0,>=1.0 in /usr/local/lib/python3.10/dist-packages (from aiohttp->openai) (1.9.2)\n",
            "Requirement already satisfied: frozenlist>=1.1.1 in /usr/local/lib/python3.10/dist-packages (from aiohttp->openai) (1.4.0)\n",
            "Requirement already satisfied: aiosignal>=1.1.2 in /usr/local/lib/python3.10/dist-packages (from aiohttp->openai) (1.3.1)\n",
            "Requirement already satisfied: chromadb in /usr/local/lib/python3.10/dist-packages (0.4.14)\n",
            "Requirement already satisfied: requests>=2.28 in /usr/local/lib/python3.10/dist-packages (from chromadb) (2.31.0)\n",
            "Requirement already satisfied: pydantic>=1.9 in /usr/local/lib/python3.10/dist-packages (from chromadb) (1.10.13)\n",
            "Requirement already satisfied: chroma-hnswlib==0.7.3 in /usr/local/lib/python3.10/dist-packages (from chromadb) (0.7.3)\n",
            "Requirement already satisfied: fastapi>=0.95.2 in /usr/local/lib/python3.10/dist-packages (from chromadb) (0.104.0)\n",
            "Requirement already satisfied: uvicorn[standard]>=0.18.3 in /usr/local/lib/python3.10/dist-packages (from chromadb) (0.23.2)\n",
            "Requirement already satisfied: posthog>=2.4.0 in /usr/local/lib/python3.10/dist-packages (from chromadb) (3.0.2)\n",
            "Requirement already satisfied: typing-extensions>=4.5.0 in /usr/local/lib/python3.10/dist-packages (from chromadb) (4.8.0)\n",
            "Requirement already satisfied: pulsar-client>=3.1.0 in /usr/local/lib/python3.10/dist-packages (from chromadb) (3.3.0)\n",
            "Requirement already satisfied: onnxruntime>=1.14.1 in /usr/local/lib/python3.10/dist-packages (from chromadb) (1.16.1)\n",
            "Requirement already satisfied: tokenizers>=0.13.2 in /usr/local/lib/python3.10/dist-packages (from chromadb) (0.14.1)\n",
            "Requirement already satisfied: pypika>=0.48.9 in /usr/local/lib/python3.10/dist-packages (from chromadb) (0.48.9)\n",
            "Requirement already satisfied: tqdm>=4.65.0 in /usr/local/lib/python3.10/dist-packages (from chromadb) (4.66.1)\n",
            "Requirement already satisfied: overrides>=7.3.1 in /usr/local/lib/python3.10/dist-packages (from chromadb) (7.4.0)\n",
            "Requirement already satisfied: importlib-resources in /usr/local/lib/python3.10/dist-packages (from chromadb) (6.1.0)\n",
            "Requirement already satisfied: grpcio>=1.58.0 in /usr/local/lib/python3.10/dist-packages (from chromadb) (1.59.0)\n",
            "Requirement already satisfied: bcrypt>=4.0.1 in /usr/local/lib/python3.10/dist-packages (from chromadb) (4.0.1)\n",
            "Requirement already satisfied: typer>=0.9.0 in /usr/local/lib/python3.10/dist-packages (from chromadb) (0.9.0)\n",
            "Requirement already satisfied: numpy>=1.22.5 in /usr/local/lib/python3.10/dist-packages (from chromadb) (1.23.5)\n",
            "Requirement already satisfied: anyio<4.0.0,>=3.7.1 in /usr/local/lib/python3.10/dist-packages (from fastapi>=0.95.2->chromadb) (3.7.1)\n",
            "Requirement already satisfied: starlette<0.28.0,>=0.27.0 in /usr/local/lib/python3.10/dist-packages (from fastapi>=0.95.2->chromadb) (0.27.0)\n",
            "Requirement already satisfied: coloredlogs in /usr/local/lib/python3.10/dist-packages (from onnxruntime>=1.14.1->chromadb) (15.0.1)\n",
            "Requirement already satisfied: flatbuffers in /usr/local/lib/python3.10/dist-packages (from onnxruntime>=1.14.1->chromadb) (23.5.26)\n",
            "Requirement already satisfied: packaging in /usr/local/lib/python3.10/dist-packages (from onnxruntime>=1.14.1->chromadb) (23.2)\n",
            "Requirement already satisfied: protobuf in /usr/local/lib/python3.10/dist-packages (from onnxruntime>=1.14.1->chromadb) (3.20.3)\n",
            "Requirement already satisfied: sympy in /usr/local/lib/python3.10/dist-packages (from onnxruntime>=1.14.1->chromadb) (1.12)\n",
            "Requirement already satisfied: six>=1.5 in /usr/local/lib/python3.10/dist-packages (from posthog>=2.4.0->chromadb) (1.16.0)\n",
            "Requirement already satisfied: monotonic>=1.5 in /usr/local/lib/python3.10/dist-packages (from posthog>=2.4.0->chromadb) (1.6)\n",
            "Requirement already satisfied: backoff>=1.10.0 in /usr/local/lib/python3.10/dist-packages (from posthog>=2.4.0->chromadb) (2.2.1)\n",
            "Requirement already satisfied: python-dateutil>2.1 in /usr/local/lib/python3.10/dist-packages (from posthog>=2.4.0->chromadb) (2.8.2)\n",
            "Requirement already satisfied: certifi in /usr/local/lib/python3.10/dist-packages (from pulsar-client>=3.1.0->chromadb) (2023.7.22)\n",
            "Requirement already satisfied: charset-normalizer<4,>=2 in /usr/local/lib/python3.10/dist-packages (from requests>=2.28->chromadb) (3.3.0)\n",
            "Requirement already satisfied: idna<4,>=2.5 in /usr/local/lib/python3.10/dist-packages (from requests>=2.28->chromadb) (3.4)\n",
            "Requirement already satisfied: urllib3<3,>=1.21.1 in /usr/local/lib/python3.10/dist-packages (from requests>=2.28->chromadb) (2.0.6)\n",
            "Requirement already satisfied: huggingface_hub<0.18,>=0.16.4 in /usr/local/lib/python3.10/dist-packages (from tokenizers>=0.13.2->chromadb) (0.17.3)\n",
            "Requirement already satisfied: click<9.0.0,>=7.1.1 in /usr/local/lib/python3.10/dist-packages (from typer>=0.9.0->chromadb) (8.1.7)\n",
            "Requirement already satisfied: h11>=0.8 in /usr/local/lib/python3.10/dist-packages (from uvicorn[standard]>=0.18.3->chromadb) (0.14.0)\n",
            "Requirement already satisfied: httptools>=0.5.0 in /usr/local/lib/python3.10/dist-packages (from uvicorn[standard]>=0.18.3->chromadb) (0.6.1)\n",
            "Requirement already satisfied: python-dotenv>=0.13 in /usr/local/lib/python3.10/dist-packages (from uvicorn[standard]>=0.18.3->chromadb) (1.0.0)\n",
            "Requirement already satisfied: pyyaml>=5.1 in /usr/local/lib/python3.10/dist-packages (from uvicorn[standard]>=0.18.3->chromadb) (6.0.1)\n",
            "Requirement already satisfied: uvloop!=0.15.0,!=0.15.1,>=0.14.0 in /usr/local/lib/python3.10/dist-packages (from uvicorn[standard]>=0.18.3->chromadb) (0.18.0)\n",
            "Requirement already satisfied: watchfiles>=0.13 in /usr/local/lib/python3.10/dist-packages (from uvicorn[standard]>=0.18.3->chromadb) (0.21.0)\n",
            "Requirement already satisfied: websockets>=10.4 in /usr/local/lib/python3.10/dist-packages (from uvicorn[standard]>=0.18.3->chromadb) (11.0.3)\n",
            "Requirement already satisfied: sniffio>=1.1 in /usr/local/lib/python3.10/dist-packages (from anyio<4.0.0,>=3.7.1->fastapi>=0.95.2->chromadb) (1.3.0)\n",
            "Requirement already satisfied: exceptiongroup in /usr/local/lib/python3.10/dist-packages (from anyio<4.0.0,>=3.7.1->fastapi>=0.95.2->chromadb) (1.1.3)\n",
            "Requirement already satisfied: filelock in /usr/local/lib/python3.10/dist-packages (from huggingface_hub<0.18,>=0.16.4->tokenizers>=0.13.2->chromadb) (3.12.4)\n",
            "Requirement already satisfied: fsspec in /usr/local/lib/python3.10/dist-packages (from huggingface_hub<0.18,>=0.16.4->tokenizers>=0.13.2->chromadb) (2023.6.0)\n",
            "Requirement already satisfied: humanfriendly>=9.1 in /usr/local/lib/python3.10/dist-packages (from coloredlogs->onnxruntime>=1.14.1->chromadb) (10.0)\n",
            "Requirement already satisfied: mpmath>=0.19 in /usr/local/lib/python3.10/dist-packages (from sympy->onnxruntime>=1.14.1->chromadb) (1.3.0)\n",
            "Requirement already satisfied: tiktoken in /usr/local/lib/python3.10/dist-packages (0.5.1)\n",
            "Requirement already satisfied: regex>=2022.1.18 in /usr/local/lib/python3.10/dist-packages (from tiktoken) (2023.6.3)\n",
            "Requirement already satisfied: requests>=2.26.0 in /usr/local/lib/python3.10/dist-packages (from tiktoken) (2.31.0)\n",
            "Requirement already satisfied: charset-normalizer<4,>=2 in /usr/local/lib/python3.10/dist-packages (from requests>=2.26.0->tiktoken) (3.3.0)\n",
            "Requirement already satisfied: idna<4,>=2.5 in /usr/local/lib/python3.10/dist-packages (from requests>=2.26.0->tiktoken) (3.4)\n",
            "Requirement already satisfied: urllib3<3,>=1.21.1 in /usr/local/lib/python3.10/dist-packages (from requests>=2.26.0->tiktoken) (2.0.6)\n",
            "Requirement already satisfied: certifi>=2017.4.17 in /usr/local/lib/python3.10/dist-packages (from requests>=2.26.0->tiktoken) (2023.7.22)\n",
            "Requirement already satisfied: PyPDF2 in /usr/local/lib/python3.10/dist-packages (3.0.1)\n",
            "Collecting pypdf\n",
            "  Downloading pypdf-3.16.4-py3-none-any.whl (276 kB)\n",
            "\u001b[2K     \u001b[90m━━━━━━━━━━━━━━━━━━━━━━━━━━━━━━━━━━━━━━━━\u001b[0m \u001b[32m276.6/276.6 kB\u001b[0m \u001b[31m3.5 MB/s\u001b[0m eta \u001b[36m0:00:00\u001b[0m\n",
            "\u001b[?25hInstalling collected packages: pypdf\n",
            "Successfully installed pypdf-3.16.4\n",
            "Requirement already satisfied: faiss-cpu in /usr/local/lib/python3.10/dist-packages (1.7.4)\n"
          ]
        }
      ],
      "source": [
        "!pip install langchain\n",
        "!pip install openai\n",
        "!pip install chromadb\n",
        "!pip install tiktoken\n",
        "!pip install PyPDF2\n",
        "!pip install pypdf\n",
        "!pip install faiss-cpu"
      ]
    },
    {
      "cell_type": "code",
      "source": [
        "import chromadb\n",
        "from langchain.embeddings import OpenAIEmbeddings\n",
        "from langchain.text_splitter import CharacterTextSplitter, RecursiveCharacterTextSplitter\n",
        "from langchain.vectorstores import Chroma, FAISS\n",
        "import os\n",
        "from langchain.memory import ConversationBufferMemory\n",
        "from langchain import OpenAI\n",
        "from langchain.chains import ConversationalRetrievalChain\n",
        "from PyPDF2 import PdfReader\n",
        "from langchain.document_loaders import PyPDFLoader\n",
        "import pickle\n",
        "from langchain.chat_models import ChatOpenAI\n",
        "from langchain.chains import RetrievalQAWithSourcesChain\n",
        "from langchain.chains.qa_with_sources.loading import load_qa_with_sources_chain\n",
        "from langchain.retrievers import ContextualCompressionRetriever\n",
        "from langchain.retrievers.document_compressors import LLMChainExtractor"
      ],
      "metadata": {
        "id": "bwXMXZvNTnnT"
      },
      "execution_count": null,
      "outputs": []
    },
    {
      "cell_type": "code",
      "source": [
        "os.environ['OPENAI_API_KEY'] = ''"
      ],
      "metadata": {
        "id": "59bb7hGgTUYE"
      },
      "execution_count": null,
      "outputs": []
    },
    {
      "cell_type": "code",
      "source": [
        "pdf_docs = [r'/content/drive/MyDrive/Langchain/The-Theory-of-Everything-pdf-free-download.pdf',\n",
        "           r'/content/drive/MyDrive/Langchain/Stephen Hawking -A Brief History Of Time.pdf']"
      ],
      "metadata": {
        "id": "E49841thsTHv"
      },
      "execution_count": null,
      "outputs": []
    },
    {
      "cell_type": "markdown",
      "source": [],
      "metadata": {
        "id": "dQ-w6-LsBrkC"
      }
    },
    {
      "cell_type": "markdown",
      "source": [
        "**Without taking source into consideration**"
      ],
      "metadata": {
        "id": "zJtO42ZGBrmp"
      }
    },
    {
      "cell_type": "code",
      "source": [
        "def get_pdf(pdf_docs):\n",
        "  text = ''\n",
        "  for pdf in pdf_docs:\n",
        "    pdf_reader = PdfReader(pdf)\n",
        "    for page in pdf_reader.pages:\n",
        "      text += page.extract_text()\n",
        "  return text\n"
      ],
      "metadata": {
        "id": "W4hKurqjUZRJ"
      },
      "execution_count": null,
      "outputs": []
    },
    {
      "cell_type": "code",
      "source": [
        "def get_text_chunks(text):\n",
        "  text_splitter = RecursiveCharacterTextSplitter(\n",
        "        chunk_size=1000,\n",
        "        chunk_overlap=200,\n",
        "        length_function=len\n",
        "    )\n",
        "  chunks = text_splitter.split_text(text)\n",
        "  return chunks"
      ],
      "metadata": {
        "id": "dPaTuUglWUKT"
      },
      "execution_count": null,
      "outputs": []
    },
    {
      "cell_type": "code",
      "source": [
        "def get_vectordb(chunks):\n",
        "  embedding_function = OpenAIEmbeddings()\n",
        "  db = FAISS.from_texts(chunks, embedding_function)\n",
        "  return db"
      ],
      "metadata": {
        "id": "rW5U5EdjW3tT"
      },
      "execution_count": null,
      "outputs": []
    },
    {
      "cell_type": "code",
      "source": [
        "text = get_pdf(pdf_docs)\n",
        "chunks = get_text_chunks(text)\n",
        "vector_db = get_vectordb(chunks)"
      ],
      "metadata": {
        "id": "3fDzQieQBYLT"
      },
      "execution_count": null,
      "outputs": []
    },
    {
      "cell_type": "code",
      "source": [
        "len(chunks)"
      ],
      "metadata": {
        "colab": {
          "base_uri": "https://localhost:8080/"
        },
        "id": "FPH3DugfBdHT",
        "outputId": "70b000fe-a3b3-4553-af64-39bfa0d8e0e0"
      },
      "execution_count": null,
      "outputs": [
        {
          "output_type": "execute_result",
          "data": {
            "text/plain": [
              "804"
            ]
          },
          "metadata": {},
          "execution_count": 83
        }
      ]
    },
    {
      "cell_type": "code",
      "source": [
        "chunks[5]"
      ],
      "metadata": {
        "colab": {
          "base_uri": "https://localhost:8080/",
          "height": 122
        },
        "id": "g0tv-lXLBfMD",
        "outputId": "de01ca6d-e0a7-4d52-fb25-2b5427ce6975"
      },
      "execution_count": null,
      "outputs": [
        {
          "output_type": "execute_result",
          "data": {
            "text/plain": [
              "'IDEAS ABOUT THE UNIVERSE       5F9A4512-DBD2-4640-B53D-F3CF22FFE0A2As long ago as 340 B.C. Aristotle, in his book On the Heavens , was able to\\nput forward two good arguments for believing that the Earth was a round\\nball rather than a flat plate. First, he realized that eclipses of the moon werecaused by the Earth coming between the sun and the moon. The Earth’s shad-ow on the moon was always round, which would be true only if the Earth wasspherical. If the Earth had been a flat disk, the shadow would have been elon-gated and elliptical, unless the eclipse always occurred at a time when the sunwas directly above the center of the disk.\\nSecond, the Greeks knew from their travels that the Pole Star appeared lower'"
            ],
            "application/vnd.google.colaboratory.intrinsic+json": {
              "type": "string"
            }
          },
          "metadata": {},
          "execution_count": 84
        }
      ]
    },
    {
      "cell_type": "code",
      "source": [
        "with open('/content/drive/MyDrive/Langchain/stephawk_db.pkl', 'wb') as f:\n",
        "  pickle.dump(vector_db, f)"
      ],
      "metadata": {
        "id": "XmVjMsnaBjEc"
      },
      "execution_count": null,
      "outputs": []
    },
    {
      "cell_type": "code",
      "source": [
        "with open(r'/content/drive/MyDrive/Langchain/stephawk_db.pkl', 'rb') as f:\n",
        "  toe_db1 = pickle.load(f)"
      ],
      "metadata": {
        "id": "BYDFsvNvBjq8"
      },
      "execution_count": null,
      "outputs": []
    },
    {
      "cell_type": "code",
      "source": [
        "llm = ChatOpenAI()\n",
        "memory = ConversationBufferMemory(memory_key='chat_history', return_messages=True)"
      ],
      "metadata": {
        "id": "YInZbszCwJO3"
      },
      "execution_count": null,
      "outputs": []
    },
    {
      "cell_type": "code",
      "source": [
        "def Answer(query):\n",
        "  conversation_chain = ConversationalRetrievalChain.from_llm(llm = llm, memory = memory, retriever = toe_db1.as_retriever())\n",
        "  ans = conversation_chain({'question': query}, return_only_outputs = True)\n",
        "  return ans['answer']"
      ],
      "metadata": {
        "id": "xNqxHqQVB4o-"
      },
      "execution_count": null,
      "outputs": []
    },
    {
      "cell_type": "code",
      "source": [
        "query = 'Tell me about anthropic principle'\n",
        "Answer(query)"
      ],
      "metadata": {
        "colab": {
          "base_uri": "https://localhost:8080/",
          "height": 140
        },
        "id": "qRJgGZCtCIhe",
        "outputId": "8c478ffc-51c8-4ada-cfd9-8244f3538b9c"
      },
      "execution_count": null,
      "outputs": [
        {
          "output_type": "execute_result",
          "data": {
            "text/plain": [
              "'There are several objections and controversies surrounding the strong anthropic principle. One objection is that it is unclear in what sense all these different universes can be said to exist. If they are truly separate from each other, then what happens in another universe would have no observable consequences in our own universe. Another objection is that if these universes are just different regions of a single universe, then the laws of science would have to be the same in each region, which would reduce the strong anthropic principle to the weak one.\\n\\nAnother objection to the strong anthropic principle is that it goes against the history of science, which has moved away from the idea that the universe exists solely for our sake. Our understanding of the universe has evolved from geocentric cosmologies to the modern picture of a vast and diverse universe with countless galaxies. The idea that this entire construction exists only for our benefit is difficult to believe.\\n\\nThese objections raise questions about the validity and explanatory power of the strong anthropic principle.'"
            ],
            "application/vnd.google.colaboratory.intrinsic+json": {
              "type": "string"
            }
          },
          "metadata": {},
          "execution_count": 61
        }
      ]
    },
    {
      "cell_type": "markdown",
      "source": [
        "**Taking source into consideration**"
      ],
      "metadata": {
        "id": "7n_KwQ8iCZwi"
      }
    },
    {
      "cell_type": "code",
      "source": [
        "def get_pdf2(pdf_docs):\n",
        "  pages = []\n",
        "  for pdf in pdf_docs:\n",
        "    pdf_reader = PyPDFLoader(pdf)\n",
        "    for page in pdf_reader.load_and_split():\n",
        "      pages.append(page)\n",
        "  return pages"
      ],
      "metadata": {
        "id": "P3Wc0bP38ts_"
      },
      "execution_count": null,
      "outputs": []
    },
    {
      "cell_type": "code",
      "source": [
        "def get_text_chunks2(text):\n",
        "  text_splitter = RecursiveCharacterTextSplitter(\n",
        "        chunk_size=1000,\n",
        "        chunk_overlap=200,\n",
        "        length_function=len\n",
        "    )\n",
        "  chunks = text_splitter.split_documents(text)\n",
        "  return chunks"
      ],
      "metadata": {
        "id": "_eLR6TPl8MhI"
      },
      "execution_count": null,
      "outputs": []
    },
    {
      "cell_type": "code",
      "source": [
        "def get_vectordb2(chunks):\n",
        "  embedding_function = OpenAIEmbeddings()\n",
        "  db = FAISS.from_documents(chunks, embedding_function)\n",
        "  return db"
      ],
      "metadata": {
        "id": "KVr5rSuU8UG0"
      },
      "execution_count": null,
      "outputs": []
    },
    {
      "cell_type": "code",
      "source": [
        "text = get_pdf2(pdf_docs)\n",
        "chunks = get_text_chunks2(text)\n",
        "vector_db = get_vectordb2(chunks)"
      ],
      "metadata": {
        "id": "5DYvZPDp41nI"
      },
      "execution_count": null,
      "outputs": []
    },
    {
      "cell_type": "code",
      "source": [
        "len(chunks)"
      ],
      "metadata": {
        "colab": {
          "base_uri": "https://localhost:8080/"
        },
        "id": "XnMYPXpp1qtt",
        "outputId": "23b4ea64-8439-48ea-c9a7-493d5ac98c9d"
      },
      "execution_count": null,
      "outputs": [
        {
          "output_type": "execute_result",
          "data": {
            "text/plain": [
              "943"
            ]
          },
          "metadata": {},
          "execution_count": 40
        }
      ]
    },
    {
      "cell_type": "code",
      "source": [
        "chunks[5]"
      ],
      "metadata": {
        "colab": {
          "base_uri": "https://localhost:8080/"
        },
        "id": "EP-E8zxv2FSC",
        "outputId": "201ffd20-df10-4a3a-e288-908471adae4c"
      },
      "execution_count": null,
      "outputs": [
        {
          "output_type": "execute_result",
          "data": {
            "text/plain": [
              "Document(page_content=\"In the third lecture I shall talk about black holes. These are formed when a\\nmassive star or an even larger body collapses in on itself under its own gravitational pull. According to Einstein’s general theory of relativity, anyone foolish enough to fall into a black hole will be lost forever. They will not beable to come out of the black hole again. Instead, history, as far as they are concerned, will come to a sticky end at a singularity. However, general relativity is a classical theory—that is, it doesn't take into account the uncertainty principle of quantum mechanics.INTRODUCTION\\nIV       5F9A4512-DBD2-4640-B53D-F3CF22FFE0A2\", metadata={'source': '/content/drive/MyDrive/Langchain/The-Theory-of-Everything-pdf-free-download.pdf', 'page': 7})"
            ]
          },
          "metadata": {},
          "execution_count": 41
        }
      ]
    },
    {
      "cell_type": "code",
      "source": [
        "with open('/content/drive/MyDrive/Langchain/stephawk_db2.pkl', 'wb') as f:\n",
        "  pickle.dump(vector_db, f)"
      ],
      "metadata": {
        "id": "VDxst0U1vYSC"
      },
      "execution_count": null,
      "outputs": []
    },
    {
      "cell_type": "code",
      "source": [
        "with open(r'/content/drive/MyDrive/Langchain/stephawk_db2.pkl', 'rb') as f:\n",
        "  toe_db2 = pickle.load(f)"
      ],
      "metadata": {
        "id": "PQnZPew3v0U9"
      },
      "execution_count": null,
      "outputs": []
    },
    {
      "cell_type": "code",
      "source": [
        "llm = ChatOpenAI()\n",
        "memory = ConversationBufferMemory(memory_key='chat_history', return_messages=True)\n",
        "def Answer2(query):\n",
        "  conversation_chain = RetrievalQAWithSourcesChain.from_llm(llm = llm, retriever = toe_db2.as_retriever())\n",
        "  ans = conversation_chain({'question': query}, return_only_outputs = True)\n",
        "  return ans"
      ],
      "metadata": {
        "id": "dPRutjldznER"
      },
      "execution_count": null,
      "outputs": []
    },
    {
      "cell_type": "code",
      "source": [
        "query = 'Tell me about anthropic principle'\n",
        "Answer2(query)"
      ],
      "metadata": {
        "id": "U3ORpDJywjSB",
        "colab": {
          "base_uri": "https://localhost:8080/"
        },
        "outputId": "e2d1e71d-abef-46e1-d012-908f2e516701"
      },
      "execution_count": null,
      "outputs": [
        {
          "output_type": "execute_result",
          "data": {
            "text/plain": [
              "{'answer': 'The anthropic principle is a concept that suggests that the conditions necessary for the development of intelligent life will only be met in certain regions of a universe that is large or infinite in space and/or time. This principle can be divided into the weak anthropic principle and the strong anthropic principle. The weak anthropic principle states that intelligent beings in these regions should not be surprised if they observe that their locality in the universe satisfies the conditions necessary for their existence. The strong anthropic principle, on the other hand, claims that the entire vast construction of the universe exists for the sake of intelligent life. However, there are objections to the strong anthropic principle, including the question of the existence of multiple universes and the consistency of the laws of science across different regions. The strong anthropic principle would also run against the history of scientific discoveries that have shown the vastness and diversity of the universe. The anthropic principle is mentioned in the text as a potential explanation for the observed state of the universe, but there are doubts and objections to its validity.\\n',\n",
              " 'sources': '/content/drive/MyDrive/Langchain/Stephen Hawking -A Brief History Of Time.pdf, /content/drive/MyDrive/Langchain/The-Theory-of-Everything-pdf-free-download.pdf'}"
            ]
          },
          "metadata": {},
          "execution_count": 72
        }
      ]
    },
    {
      "cell_type": "code",
      "source": [
        "query = 'Tell me about the thermodymanic arrow of time'\n",
        "Answer2(query)"
      ],
      "metadata": {
        "id": "3vfphLC233Ma",
        "colab": {
          "base_uri": "https://localhost:8080/"
        },
        "outputId": "488273d7-6395-4d0e-aa94-d8ed94e4c2a1"
      },
      "execution_count": null,
      "outputs": [
        {
          "output_type": "execute_result",
          "data": {
            "text/plain": [
              "{'answer': 'The thermodynamic arrow of time is the concept that the entropy, or disorder, of a closed system tends to increase over time. This asymmetry in the behavior of physical systems gives rise to the arrow of time, where certain processes are irreversible and occur in a particular direction. It is closely linked to the concept of causality, as events in the past have causal effects on events in the future but not vice versa. The thermodynamic arrow of time is a macroscopic phenomenon and emerges due to the statistical nature of thermodynamics in large-scale systems. It is important to note that the thermodynamic arrow of time is essentially the same as the psychological arrow of time, and they both point in the same direction. The existence of a well-defined thermodynamic arrow of time is predicted by the no boundary proposal for the universe. At the microscopic level, the behavior of particles is typically time-reversible, but on a larger scale, the arrow of time is observed due to the tendency of closed systems to increase in entropy. (',\n",
              " 'sources': '/content/drive/MyDrive/Langchain/Stephen Hawking -A Brief History Of Time.pdf, /content/drive/MyDrive/Langchain/The-Theory-of-Everything-pdf-free-download.pdf)'}"
            ]
          },
          "metadata": {},
          "execution_count": 73
        }
      ]
    },
    {
      "cell_type": "code",
      "source": [
        "query = 'What did Aristotle say about the universe?'\n",
        "Answer2(query)"
      ],
      "metadata": {
        "colab": {
          "base_uri": "https://localhost:8080/"
        },
        "id": "r9NXbQMI7Ut-",
        "outputId": "b9af328b-bc60-46e6-95db-a1cf23b346c3"
      },
      "execution_count": null,
      "outputs": [
        {
          "output_type": "execute_result",
          "data": {
            "text/plain": [
              "{'answer': 'Aristotle believed that all matter in the universe was made up of four basic elements - earth, air, fire, and water. He also believed that the Earth was stationary and that the sun, moon, planets, and stars moved in circular orbits around the Earth because he believed that the Earth was the center of the universe and that circular motion was the most perfect. Additionally, Aristotle and other Greek philosophers did not believe in the idea of a creation and believed that the human race and the world around it had existed forever.\\n',\n",
              " 'sources': '/content/drive/MyDrive/Langchain/Stephen Hawking -A Brief History Of Time.pdf, /content/drive/MyDrive/Langchain/The-Theory-of-Everything-pdf-free-download.pdf'}"
            ]
          },
          "metadata": {},
          "execution_count": 75
        }
      ]
    },
    {
      "cell_type": "code",
      "source": [
        "query = 'What is the theory of relativity?'\n",
        "Answer2(query)"
      ],
      "metadata": {
        "colab": {
          "base_uri": "https://localhost:8080/"
        },
        "id": "RDp3WsNM6NIf",
        "outputId": "20246391-a010-445d-ebf4-c7b9b489ab2f"
      },
      "execution_count": null,
      "outputs": [
        {
          "output_type": "execute_result",
          "data": {
            "text/plain": [
              "{'answer': 'The theory of relativity states that the laws of science should be the same for all freely moving observers, regardless of their speed. It also suggests that there is no unique absolute time, but rather each individual has their own personal measure of time based on their location and motion. Additionally, the theory of relativity changes our understanding of space and time, revealing that they are not completely separate but rather combined to form a concept known as space-time. In the theory of general relativity, the strength of gravity and the value of the cosmological constant are the only adjustable quantities. \\n',\n",
              " 'sources': '/content/drive/MyDrive/Langchain/Stephen Hawking -A Brief History Of Time.pdf, /content/drive/MyDrive/Langchain/The-Theory-of-Everything-pdf-free-download.pdf'}"
            ]
          },
          "metadata": {},
          "execution_count": 76
        }
      ]
    },
    {
      "cell_type": "code",
      "source": [
        "query = 'What is the difference of ideolody between Newton and Ariatotle and Galileo?'\n",
        "Answer(query)"
      ],
      "metadata": {
        "colab": {
          "base_uri": "https://localhost:8080/",
          "height": 140
        },
        "id": "Ub3ft-nC6wsd",
        "outputId": "6d4d3120-cc2a-43e6-cd8b-1d4c996a8542"
      },
      "execution_count": null,
      "outputs": [
        {
          "output_type": "execute_result",
          "data": {
            "text/plain": [
              "\"The main difference in ideology between Newton, Aristotle, and Galileo is their views on motion and the natural state of objects. \\n\\nAristotle believed in a preferred state of rest, where any body would naturally be at rest unless it was driven by a force or impulse. He also believed that the Earth was at rest. \\n\\nGalileo challenged Aristotle's beliefs and conducted experiments to show that objects of different weights fall at the same rate, contradicting Aristotle's belief that heavier objects fall faster. Galileo also supported the Copernican theory, which proposed that the Earth and planets orbit the sun, challenging the geocentric model supported by Aristotle.\\n\\nNewton's ideology built upon the work of Galileo and Copernicus. He developed the laws of motion and the law of universal gravitation. Newton's laws of motion stated that objects in motion will remain in motion unless acted upon by an external force, and that the rate of change of momentum of an object is directly proportional to the force applied to it. Newton's law of universal gravitation explained the force that attracts objects towards each other. Newton's ideas provided a mathematical framework for understanding and predicting the motion of objects.\\n\\nIn summary, Aristotle believed in a preferred state of rest, Galileo challenged this belief with experiments and supported the Copernican theory, and Newton developed the laws of motion and the law of universal gravitation.\""
            ],
            "application/vnd.google.colaboratory.intrinsic+json": {
              "type": "string"
            }
          },
          "metadata": {},
          "execution_count": 22
        }
      ]
    },
    {
      "cell_type": "code",
      "source": [
        "memory.buffer"
      ],
      "metadata": {
        "colab": {
          "base_uri": "https://localhost:8080/"
        },
        "id": "CWWLX4TH4Byr",
        "outputId": "8a17b8d7-09b8-438b-9a6a-d67df7ac359f"
      },
      "execution_count": null,
      "outputs": [
        {
          "output_type": "execute_result",
          "data": {
            "text/plain": [
              "[HumanMessage(content='Tell me about anthropic principle'),\n",
              " AIMessage(content=\"The anthropic principle is a concept in cosmology and philosophy that suggests that the observed state of the universe is influenced by the existence of intelligent beings like ourselves. There are two versions of the anthropic principle: the weak and the strong.\\n\\nThe weak anthropic principle states that intelligent life can only exist in certain regions of the universe that satisfy the necessary conditions for its development. This principle suggests that we should not be surprised to find ourselves in a locality that supports our existence, just as a wealthy person living in a wealthy neighborhood wouldn't be surprised by the absence of poverty. One example of the weak anthropic principle being used is to explain why the Big Bang occurred around ten billion years ago, as it takes that long for intelligent beings to evolve.\\n\\nThe strong anthropic principle takes the idea further and suggests that the universe is specifically designed to support intelligent life. It argues that the fundamental laws of science are tailored to allow for the existence of beings like us. However, there are objections to the strong anthropic principle. One objection questions the existence of multiple universes and their observable consequences in our own universe. Another objection is that it seems unlikely that the entire vast universe exists solely for the sake of intelligent beings.\\n\\nOverall, the anthropic principle raises questions about the relationship between the existence of intelligent life and the fundamental nature of the universe. It prompts us to consider whether there is a deeper underlying order or if our existence is just a lucky chance.\"),\n",
              " HumanMessage(content='Tell me about the thermodymanic arrow of time'),\n",
              " AIMessage(content='The thermodynamic arrow of time refers to the direction of time in which disorder or entropy increases. It is based on the second law of thermodynamics, which states that the entropy of a closed system tends to increase over time. In simpler terms, it is the direction in which things become more disordered or chaotic.'),\n",
              " HumanMessage(content='What did Aristotle say about the universe?'),\n",
              " AIMessage(content='Aristotle believed that the Earth was a round ball rather than a flat plate. He supported this with two arguments: the round shadow of the Earth during lunar eclipses and the apparent position of the Pole Star being lower in the sky when viewed from the south. He also believed that the Earth was stationary and that the sun, moon, planets, and stars moved in circular orbits around the Earth. He held this belief because he considered the Earth to be the center of the universe and believed that circular motion was the most perfect.'),\n",
              " HumanMessage(content='What is the theory of relativity?'),\n",
              " AIMessage(content='The theory of relativity is a scientific theory developed by Albert Einstein. It states that the laws of physics are the same for all observers, regardless of their motion relative to each other. It also introduces the concept of space-time, which combines space and time into a single entity. The theory of relativity has important implications for our understanding of gravity, the speed of light, and the relationship between mass and energy.'),\n",
              " HumanMessage(content='What is the theory of relativity?'),\n",
              " AIMessage(content=\"The theory of relativity, developed by Albert Einstein, is a fundamental theory in physics that revolutionized our understanding of space, time, and gravity. It consists of two main parts: special relativity and general relativity.\\n\\nSpecial relativity, published by Einstein in 1905, is based on two postulates. The first postulate is that the laws of physics are the same for all observers in uniform motion. This means that there is no absolute frame of reference and the laws of physics should be consistent for all observers regardless of their relative motion. The second postulate is that the speed of light in a vacuum is constant for all observers, regardless of their motion or the motion of the source of light.\\n\\nFrom these postulates, special relativity introduces some key concepts. One is that time is not absolute but is relative to the observer's motion. This means that time can appear to pass differently for different observers depending on their relative motion. Another concept is that space and time are interwoven into a four-dimensional continuum called spacetime. In this view, events that are simultaneous for one observer may not be simultaneous for another observer in relative motion.\\n\\nGeneral relativity, published by Einstein in 1915, extends the principles of special relativity to include gravity. It proposes that gravity is not a force acting from a distance, as described by Newtonian physics, but rather a curvature of spacetime caused by mass and energy. In this theory, objects with mass or energy warp the fabric of spacetime, and other objects move along curved paths as a result of this curvature.\\n\\nGeneral relativity has been confirmed by numerous experimental tests and observations. It has successfully explained phenomena such as the bending of light around massive objects, the precession of Mercury's orbit, and the existence of black holes.\\n\\nOverall, the theory of relativity has had a profound impact on our understanding of the universe, challenging our intuitive notions of space, time, and gravity. It forms the basis for many modern theories in physics and has paved the way for advancements in cosmology, astrophysics, and technology.\"),\n",
              " HumanMessage(content='What is the difference of ideolody between Newton and Ariatotle and Galileo?'),\n",
              " AIMessage(content=\"The main difference in ideology between Newton, Aristotle, and Galileo is their views on motion and the natural state of objects. \\n\\nAristotle believed in a preferred state of rest, where any body would naturally be at rest unless it was driven by a force or impulse. He also believed that the Earth was at rest. \\n\\nGalileo challenged Aristotle's beliefs and conducted experiments to show that objects of different weights fall at the same rate, contradicting Aristotle's belief that heavier objects fall faster. Galileo also supported the Copernican theory, which proposed that the Earth and planets orbit the sun, challenging the geocentric model supported by Aristotle.\\n\\nNewton's ideology built upon the work of Galileo and Copernicus. He developed the laws of motion and the law of universal gravitation. Newton's laws of motion stated that objects in motion will remain in motion unless acted upon by an external force, and that the rate of change of momentum of an object is directly proportional to the force applied to it. Newton's law of universal gravitation explained the force that attracts objects towards each other. Newton's ideas provided a mathematical framework for understanding and predicting the motion of objects.\\n\\nIn summary, Aristotle believed in a preferred state of rest, Galileo challenged this belief with experiments and supported the Copernican theory, and Newton developed the laws of motion and the law of universal gravitation.\")]"
            ]
          },
          "metadata": {},
          "execution_count": 23
        }
      ]
    }
  ]
}